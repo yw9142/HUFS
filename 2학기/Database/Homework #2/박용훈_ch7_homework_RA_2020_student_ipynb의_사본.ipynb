{
  "nbformat": 4,
  "nbformat_minor": 0,
  "metadata": {
    "colab": {
      "name": "박용훈 - ch7_homework_RA-2020-student.ipynb의 사본",
      "provenance": [],
      "collapsed_sections": []
    },
    "kernelspec": {
      "display_name": "Python 3",
      "language": "python",
      "name": "python3"
    },
    "language_info": {
      "codemirror_mode": {
        "name": "ipython",
        "version": 3
      },
      "file_extension": ".py",
      "mimetype": "text/x-python",
      "name": "python",
      "nbconvert_exporter": "python",
      "pygments_lexer": "ipython3",
      "version": "3.7.3"
    }
  },
  "cells": [
    {
      "cell_type": "markdown",
      "metadata": {
        "id": "cGbn68fuu5u8"
      },
      "source": [
        "# Homework 1. Relational Algebra"
      ]
    },
    {
      "cell_type": "markdown",
      "metadata": {
        "id": "TVJJmUVQNcVy"
      },
      "source": [
        "1. Use Google Colabortory and do your homework.\n",
        "3. (In Google colaboratory) Before you submit your homework, restart kernel and run all. (Runtime-> restart and run all)\n",
        "4. Save (File->Save) the file\n",
        "5. Submit your homework (this file) in Google classroom\n",
        "6. **Don't forget to click \"제출\" button** (\"Submit\", \"완료로 표시\", 또는 \"제출\" 버턴을 누르지 않으면 제출된 것이 아님)\n",
        "7. No late homeworks will be accepted for any reason!"
      ]
    },
    {
      "cell_type": "markdown",
      "metadata": {
        "id": "0rwO-EKUNcVz"
      },
      "source": [
        "To edit this cell, double click here\n",
        "```\n",
        "이름:박용훈\n",
        "학번:201901586\n",
        "학과:Global business & Technology\n",
        "제출일:2020.10.18.\n",
        "```"
      ]
    },
    {
      "cell_type": "markdown",
      "metadata": {
        "id": "y9WhlP0ONcVz"
      },
      "source": [
        "## CompanyDB Schema\n",
        "\n",
        "### Note that attribute names are capitalized\n",
        "```\n",
        "E(Fname,Minit,Lname,Ssn,Bdate,Address,Sex,Salary,Superssn,Dno)\n",
        "D(Dname,Dnumber,Mgrssn,Mgrstartdate)\n",
        "DL(Dnumber,Dlocation)\n",
        "P(Pname,Pnumber,Plocation,Dnum)\n",
        "WO(Essn,Pno,Hours)\n",
        "DE(Essn,Dependent_name,Sex,Bdate,Relationship)\n",
        "```"
      ]
    },
    {
      "cell_type": "markdown",
      "metadata": {
        "id": "pUDDFn7eu5u9"
      },
      "source": [
        "## First, run the following cell before you do your homework"
      ]
    },
    {
      "cell_type": "markdown",
      "metadata": {
        "id": "P1PmB-Q2u5u9"
      },
      "source": [
        "## DB setup"
      ]
    },
    {
      "cell_type": "code",
      "metadata": {
        "id": "9LZeWDA7u5u-"
      },
      "source": [
        "EMPLOYEE_csv = 'Fname,Minit,Lname,Ssn,Bdate,Address,Sex,Salary,Superssn,Dno\\r\\nJohn,B,Smith,123456789,1965-01-09,731-Fondren-Houston-TX,M,30000.00,333445555,5\\r\\nFranklin,T,Wong,333445555,1955-12-08,638-Voss-Houston-TX,M,40000.00,888665555,5\\r\\nJoyce,A,English,453453453,1972-07-31,5631-Rice-Houston-TX,F,25000.00,333445555,5\\r\\nRamesh,K,Narayan,666884444,1962-09-15,975-Fire-Oak-Humble-TX,M,38000.00,333445555,5\\r\\nJames,E,Borg,888665555,1937-11-10,450-Stone-Houston-TX,M,55000.00,,1\\r\\nJennifer,S,Wallace,987654321,1941-06-20,291-Berry-Bellaire-TX,F,43000.00,888665555,4\\r\\nAhmad,V,Jabbar,987987987,1969-03-29,980-Dallas-Houston-TX,M,25000.00,987654321,4\\r\\nAlicia,J,Zelaya,999887777,1968-01-19,3321-Castle-Spring-TX,F,25000.00,987654321,4\\r\\n'\n",
        "DEPARTMENT_csv = 'Dname,Dnumber,Mgrssn,Mgrstartdate\\r\\nHeadquarters,1,888665555,1981-06-19\\r\\nAdministration,4,987654321,1995-01-01\\r\\nResearch,5,333445555,1988-05-22\\r\\n'\n",
        "DEPT_LOCATIONS_csv = 'Dnumber,Dlocation\\r\\n1,Houston\\r\\n4,Stafford\\r\\n5,Bellaire\\r\\n5,Houston\\r\\n5,Sugarland\\r\\n'\n",
        "PROJECT_csv = 'Pname,Pnumber,Plocation,Dnum\\r\\nProductX,1,Bellaire,5\\r\\nProductY,2,Sugarland,5\\r\\nProductZ,3,Houston,5\\r\\nComputerization,10,Stafford,4\\r\\nReorganization,20,Houston,1\\r\\nNewbenefits,30,Stafford,4\\r\\n'\n",
        "WORKS_ON_csv = 'Essn,Pno,Hours\\r\\n123456789,1,32.5\\r\\n123456789,2,7.5\\r\\n333445555,2,10.0\\r\\n333445555,3,10.0\\r\\n333445555,10,10.0\\r\\n333445555,20,10.0\\r\\n453453453,1,20.0\\r\\n453453453,2,20.0\\r\\n666884444,3,40.0\\r\\n888665555,20,\\r\\n987654321,20,15.0\\r\\n987654321,30,20.0\\r\\n987987987,10,35.0\\r\\n987987987,30,5.0\\r\\n999887777,10,10.0\\r\\n999887777,30,30.0\\r\\n'\n",
        "DEPENDENT_csv = 'Essn,Dependent_name,Sex,Bdate,Relationship\\r\\n123456789,Alice,F,1988-12-30,Daughter\\r\\n123456789,Elizabeth,F,1967-05-05,Spouse\\r\\n123456789,Michael,M,1988-01-04,Son\\r\\n333445555,Alice,F,1986-04-05,Daughter\\r\\n333445555,Joy,F,1958-05-03,Spouse\\r\\n333445555,Theodore,M,1983-10-25,Son\\r\\n987654321,Abner,M,1942-02-28,Spouse\\r\\n'\n",
        "\n",
        "# import packages\n",
        "\n",
        "import pandas as pd\n",
        "from io import StringIO \n",
        "import re\n",
        "\n",
        "# Tables\n",
        "EMPLOYEE = pd.read_csv(StringIO(EMPLOYEE_csv))\n",
        "DEPARTMENT = pd.read_csv(StringIO(DEPARTMENT_csv))\n",
        "DEPT_LOCATIONS = pd.read_csv(StringIO(DEPT_LOCATIONS_csv))\n",
        "PROJECT = pd.read_csv(StringIO(PROJECT_csv))\n",
        "WORKS_ON = pd.read_csv(StringIO(WORKS_ON_csv))\n",
        "DEPENDENT = pd.read_csv(StringIO(DEPENDENT_csv))\n",
        "\n",
        "# short_names for Tables\n",
        "E = EMPLOYEE\n",
        "D = DEPARTMENT\n",
        "DL = DEPT_LOCATIONS\n",
        "P = PROJECT\n",
        "WO = WORKS_ON\n",
        "DE = DEPENDENT\n",
        "\n",
        "def rename(R, C):\n",
        "    return R.rename(columns=C)\n",
        "\n",
        "def select(R, C):\n",
        "    # The following substitution may NOT work \n",
        "    # when column name is equal to a string value in C\n",
        "    tokens = re.split(r'(\\W+)', C)\n",
        "    new_tokens = [\"R.\" + token  if token in R.columns else token \\\n",
        "                  for token in tokens] \n",
        "    selected = eval(''.join(new_tokens))\n",
        "    return R[selected].reset_index(drop=True)\n",
        "\n",
        "def project(R, C):\n",
        "    return R[C].drop_duplicates().reset_index(drop=True)\n",
        "\n",
        "def union(R, S):\n",
        "    S.columns = R.columns\n",
        "    T = pd.concat([R, S], ignore_index=True)\n",
        "    T = T.drop_duplicates().reset_index(drop=True)\n",
        "    return T\n",
        "\n",
        "def intersect(R, S):\n",
        "    S.columns = R.columns\n",
        "    return R.merge(S).reset_index(drop=True)\n",
        "\n",
        "def minus(R, S):\n",
        "    S.columns = R.columns\n",
        "    return pd.concat([R, S, S]).drop_duplicates(keep=False).reset_index(drop=True)\n",
        "\n",
        "def product(R, S):\n",
        "    \"\"\"Determine Cartesian product of two data frames.\"\"\"\n",
        "    key = 'key'\n",
        "    while key in R.columns or key in S.columns:\n",
        "        key = '_' + key\n",
        "    key_d = {key: 0}\n",
        "    return pd.merge(R.assign(**key_d), S.assign(**key_d), on=key)\\\n",
        "           .drop(key, axis=1).reset_index(drop=True)\n",
        "\n",
        "def natural_join(R, S):\n",
        "    return pd.merge(R, S).reset_index(drop=True)\n",
        "\n",
        "def natural_join2(R, S, keys_R, keys_S):\n",
        "    return pd.merge(R, S, left_on=keys_R, right_on=keys_S)\\\n",
        "           .drop(keys_S, axis=1).reset_index(drop=True)\n",
        "\n",
        "def division(R, S):\n",
        "    Z = set(R.columns)\n",
        "    X = set(S.columns)\n",
        "    assert X <= Z\n",
        "    Y = pd.Index(Z - X)\n",
        "    T1 = project(R, Y)\n",
        "    T2 = project(minus(product(T1, S), R), Y)\n",
        "    T = minus(T1, T2)\n",
        "    return T.reset_index(drop=True)"
      ],
      "execution_count": 1,
      "outputs": []
    },
    {
      "cell_type": "markdown",
      "metadata": {
        "id": "BF2FWV6dNcV3"
      },
      "source": [
        "## <font color='red'>Query Statement에 나타나지 않은 상수(값)을 사용하면 무조건 0점 처리됨. 예를 들어, Query 1에서 \"Research\"라는 상수값만 나타나야 함</font>\n",
        "\n",
        "## 각 질의당 10점"
      ]
    },
    {
      "cell_type": "markdown",
      "metadata": {
        "id": "f4fuJ7AONcV3"
      },
      "source": [
        "### Query 1: Retrieve the last name, first name, and address of employees who work for the \"Research\" department. (Use cartesian product. Do NOT use join)"
      ]
    },
    {
      "cell_type": "code",
      "metadata": {
        "id": "sU3f9NGsNcV4",
        "outputId": "3c4fdd00-90d3-4c3c-e729-bdd4285f24ba",
        "colab": {
          "base_uri": "https://localhost:8080/",
          "height": 173
        }
      },
      "source": [
        "# YOUR CODE HERE\n",
        "project(select(product(E, D), \"(Dname == 'Research') & (Dno == Dnumber)\"), ['Fname', 'Lname', 'Address'])"
      ],
      "execution_count": 2,
      "outputs": [
        {
          "output_type": "execute_result",
          "data": {
            "text/html": [
              "<div>\n",
              "<style scoped>\n",
              "    .dataframe tbody tr th:only-of-type {\n",
              "        vertical-align: middle;\n",
              "    }\n",
              "\n",
              "    .dataframe tbody tr th {\n",
              "        vertical-align: top;\n",
              "    }\n",
              "\n",
              "    .dataframe thead th {\n",
              "        text-align: right;\n",
              "    }\n",
              "</style>\n",
              "<table border=\"1\" class=\"dataframe\">\n",
              "  <thead>\n",
              "    <tr style=\"text-align: right;\">\n",
              "      <th></th>\n",
              "      <th>Fname</th>\n",
              "      <th>Lname</th>\n",
              "      <th>Address</th>\n",
              "    </tr>\n",
              "  </thead>\n",
              "  <tbody>\n",
              "    <tr>\n",
              "      <th>0</th>\n",
              "      <td>John</td>\n",
              "      <td>Smith</td>\n",
              "      <td>731-Fondren-Houston-TX</td>\n",
              "    </tr>\n",
              "    <tr>\n",
              "      <th>1</th>\n",
              "      <td>Franklin</td>\n",
              "      <td>Wong</td>\n",
              "      <td>638-Voss-Houston-TX</td>\n",
              "    </tr>\n",
              "    <tr>\n",
              "      <th>2</th>\n",
              "      <td>Joyce</td>\n",
              "      <td>English</td>\n",
              "      <td>5631-Rice-Houston-TX</td>\n",
              "    </tr>\n",
              "    <tr>\n",
              "      <th>3</th>\n",
              "      <td>Ramesh</td>\n",
              "      <td>Narayan</td>\n",
              "      <td>975-Fire-Oak-Humble-TX</td>\n",
              "    </tr>\n",
              "  </tbody>\n",
              "</table>\n",
              "</div>"
            ],
            "text/plain": [
              "      Fname    Lname                 Address\n",
              "0      John    Smith  731-Fondren-Houston-TX\n",
              "1  Franklin     Wong     638-Voss-Houston-TX\n",
              "2     Joyce  English    5631-Rice-Houston-TX\n",
              "3    Ramesh  Narayan  975-Fire-Oak-Humble-TX"
            ]
          },
          "metadata": {
            "tags": []
          },
          "execution_count": 2
        }
      ]
    },
    {
      "cell_type": "markdown",
      "metadata": {
        "id": "JGPQhchlNcV6"
      },
      "source": [
        "### Query 2: Retrieve the last name, first name, and address of employees who work for the \"Research\" department. (Do NOT use cartesian product. Use natural join)"
      ]
    },
    {
      "cell_type": "code",
      "metadata": {
        "id": "q4PoTxG2NcV6",
        "outputId": "6510d928-2a36-48dd-85b4-5fb17e6c89c2",
        "colab": {
          "base_uri": "https://localhost:8080/",
          "height": 173
        }
      },
      "source": [
        "# YOUR CODE HERE\n",
        "project(select(natural_join2(EMPLOYEE, DEPARTMENT, ['Dno'], ['Dnumber']), \"Dname == 'Research'\"), ['Fname', 'Lname', 'Address'])"
      ],
      "execution_count": 3,
      "outputs": [
        {
          "output_type": "execute_result",
          "data": {
            "text/html": [
              "<div>\n",
              "<style scoped>\n",
              "    .dataframe tbody tr th:only-of-type {\n",
              "        vertical-align: middle;\n",
              "    }\n",
              "\n",
              "    .dataframe tbody tr th {\n",
              "        vertical-align: top;\n",
              "    }\n",
              "\n",
              "    .dataframe thead th {\n",
              "        text-align: right;\n",
              "    }\n",
              "</style>\n",
              "<table border=\"1\" class=\"dataframe\">\n",
              "  <thead>\n",
              "    <tr style=\"text-align: right;\">\n",
              "      <th></th>\n",
              "      <th>Fname</th>\n",
              "      <th>Lname</th>\n",
              "      <th>Address</th>\n",
              "    </tr>\n",
              "  </thead>\n",
              "  <tbody>\n",
              "    <tr>\n",
              "      <th>0</th>\n",
              "      <td>John</td>\n",
              "      <td>Smith</td>\n",
              "      <td>731-Fondren-Houston-TX</td>\n",
              "    </tr>\n",
              "    <tr>\n",
              "      <th>1</th>\n",
              "      <td>Franklin</td>\n",
              "      <td>Wong</td>\n",
              "      <td>638-Voss-Houston-TX</td>\n",
              "    </tr>\n",
              "    <tr>\n",
              "      <th>2</th>\n",
              "      <td>Joyce</td>\n",
              "      <td>English</td>\n",
              "      <td>5631-Rice-Houston-TX</td>\n",
              "    </tr>\n",
              "    <tr>\n",
              "      <th>3</th>\n",
              "      <td>Ramesh</td>\n",
              "      <td>Narayan</td>\n",
              "      <td>975-Fire-Oak-Humble-TX</td>\n",
              "    </tr>\n",
              "  </tbody>\n",
              "</table>\n",
              "</div>"
            ],
            "text/plain": [
              "      Fname    Lname                 Address\n",
              "0      John    Smith  731-Fondren-Houston-TX\n",
              "1  Franklin     Wong     638-Voss-Houston-TX\n",
              "2     Joyce  English    5631-Rice-Houston-TX\n",
              "3    Ramesh  Narayan  975-Fire-Oak-Humble-TX"
            ]
          },
          "metadata": {
            "tags": []
          },
          "execution_count": 3
        }
      ]
    },
    {
      "cell_type": "markdown",
      "metadata": {
        "id": "7WYQqWPRNcV8"
      },
      "source": [
        "### Query 3: For every project located in \"Stafford\", list the project name, the controlling department name, and the department manager's last name, first name. (Use natural_join2, No cartesian products and natural joins are allowed)"
      ]
    },
    {
      "cell_type": "code",
      "metadata": {
        "id": "ViXSdsxoNcV9",
        "outputId": "c569065b-9170-4253-deb8-f16acf882977",
        "colab": {
          "base_uri": "https://localhost:8080/",
          "height": 235
        }
      },
      "source": [
        "# YOUR CODE HERE\n",
        "project(select(natural_join2(natural_join2(EMPLOYEE, PROJECT, ['Dno'], ['Dnum']), DEPARTMENT, ['Dno'], ['Dnumber']), \"Plocation == 'Stafford'\"), ['Pname', 'Dname', 'Fname', 'Lname'])"
      ],
      "execution_count": 4,
      "outputs": [
        {
          "output_type": "execute_result",
          "data": {
            "text/html": [
              "<div>\n",
              "<style scoped>\n",
              "    .dataframe tbody tr th:only-of-type {\n",
              "        vertical-align: middle;\n",
              "    }\n",
              "\n",
              "    .dataframe tbody tr th {\n",
              "        vertical-align: top;\n",
              "    }\n",
              "\n",
              "    .dataframe thead th {\n",
              "        text-align: right;\n",
              "    }\n",
              "</style>\n",
              "<table border=\"1\" class=\"dataframe\">\n",
              "  <thead>\n",
              "    <tr style=\"text-align: right;\">\n",
              "      <th></th>\n",
              "      <th>Pname</th>\n",
              "      <th>Dname</th>\n",
              "      <th>Fname</th>\n",
              "      <th>Lname</th>\n",
              "    </tr>\n",
              "  </thead>\n",
              "  <tbody>\n",
              "    <tr>\n",
              "      <th>0</th>\n",
              "      <td>Computerization</td>\n",
              "      <td>Administration</td>\n",
              "      <td>Jennifer</td>\n",
              "      <td>Wallace</td>\n",
              "    </tr>\n",
              "    <tr>\n",
              "      <th>1</th>\n",
              "      <td>Newbenefits</td>\n",
              "      <td>Administration</td>\n",
              "      <td>Jennifer</td>\n",
              "      <td>Wallace</td>\n",
              "    </tr>\n",
              "    <tr>\n",
              "      <th>2</th>\n",
              "      <td>Computerization</td>\n",
              "      <td>Administration</td>\n",
              "      <td>Ahmad</td>\n",
              "      <td>Jabbar</td>\n",
              "    </tr>\n",
              "    <tr>\n",
              "      <th>3</th>\n",
              "      <td>Newbenefits</td>\n",
              "      <td>Administration</td>\n",
              "      <td>Ahmad</td>\n",
              "      <td>Jabbar</td>\n",
              "    </tr>\n",
              "    <tr>\n",
              "      <th>4</th>\n",
              "      <td>Computerization</td>\n",
              "      <td>Administration</td>\n",
              "      <td>Alicia</td>\n",
              "      <td>Zelaya</td>\n",
              "    </tr>\n",
              "    <tr>\n",
              "      <th>5</th>\n",
              "      <td>Newbenefits</td>\n",
              "      <td>Administration</td>\n",
              "      <td>Alicia</td>\n",
              "      <td>Zelaya</td>\n",
              "    </tr>\n",
              "  </tbody>\n",
              "</table>\n",
              "</div>"
            ],
            "text/plain": [
              "             Pname           Dname     Fname    Lname\n",
              "0  Computerization  Administration  Jennifer  Wallace\n",
              "1      Newbenefits  Administration  Jennifer  Wallace\n",
              "2  Computerization  Administration     Ahmad   Jabbar\n",
              "3      Newbenefits  Administration     Ahmad   Jabbar\n",
              "4  Computerization  Administration    Alicia   Zelaya\n",
              "5      Newbenefits  Administration    Alicia   Zelaya"
            ]
          },
          "metadata": {
            "tags": []
          },
          "execution_count": 4
        }
      ]
    },
    {
      "cell_type": "markdown",
      "metadata": {
        "id": "I000B41xNcV_"
      },
      "source": [
        "### Query 4: Find the last name, first name of employees who work on all the projects controlled by department number 4."
      ]
    },
    {
      "cell_type": "code",
      "metadata": {
        "id": "oTmStUevNcV_",
        "outputId": "ca121152-26ca-44a9-eac5-0d59cc7b1ff6",
        "colab": {
          "base_uri": "https://localhost:8080/",
          "height": 111
        }
      },
      "source": [
        "# YOUR CODE HERE\n",
        "DEPARTMENT4 = rename(project(select(PROJECT, \"Dnum == 4\"), ['Pnumber']), {'Pnumber':'Pno'})\n",
        "EMPLOYEE_PROJECT = rename(project(WORKS_ON, ['Essn', 'Pno']), {'Essn':'Ssn', 'Pno': 'Pno'})\n",
        "RESULT = division(EMPLOYEE_PROJECT, DEPARTMENT4)\n",
        "\n",
        "project(natural_join(RESULT, EMPLOYEE),['Fname', 'Lname'])\n",
        "\n",
        "\n"
      ],
      "execution_count": 5,
      "outputs": [
        {
          "output_type": "execute_result",
          "data": {
            "text/html": [
              "<div>\n",
              "<style scoped>\n",
              "    .dataframe tbody tr th:only-of-type {\n",
              "        vertical-align: middle;\n",
              "    }\n",
              "\n",
              "    .dataframe tbody tr th {\n",
              "        vertical-align: top;\n",
              "    }\n",
              "\n",
              "    .dataframe thead th {\n",
              "        text-align: right;\n",
              "    }\n",
              "</style>\n",
              "<table border=\"1\" class=\"dataframe\">\n",
              "  <thead>\n",
              "    <tr style=\"text-align: right;\">\n",
              "      <th></th>\n",
              "      <th>Fname</th>\n",
              "      <th>Lname</th>\n",
              "    </tr>\n",
              "  </thead>\n",
              "  <tbody>\n",
              "    <tr>\n",
              "      <th>0</th>\n",
              "      <td>Ahmad</td>\n",
              "      <td>Jabbar</td>\n",
              "    </tr>\n",
              "    <tr>\n",
              "      <th>1</th>\n",
              "      <td>Alicia</td>\n",
              "      <td>Zelaya</td>\n",
              "    </tr>\n",
              "  </tbody>\n",
              "</table>\n",
              "</div>"
            ],
            "text/plain": [
              "    Fname   Lname\n",
              "0   Ahmad  Jabbar\n",
              "1  Alicia  Zelaya"
            ]
          },
          "metadata": {
            "tags": []
          },
          "execution_count": 5
        }
      ]
    },
    {
      "cell_type": "markdown",
      "metadata": {
        "id": "d8zGdtf1NcWB"
      },
      "source": [
        "### Query 5: Make a list of project names for projects that involve an employee whose last name is \"Wallace\", either as a worker or as a manager of the department that controls the project."
      ]
    },
    {
      "cell_type": "code",
      "metadata": {
        "id": "TN6NdtOPNcWC",
        "outputId": "8cd44d48-8ebe-4aab-f8be-522108b9f0dc",
        "colab": {
          "base_uri": "https://localhost:8080/",
          "height": 111
        }
      },
      "source": [
        "# YOUR CODE HERE\n",
        "WALLACE = project(select(EMPLOYEE, \"Lname == 'Wallace'\"), ['Ssn'])\n",
        "WALLACE_WORKER_PROJECTS = project(product(PROJECT, WALLACE), ['Pname'])\n",
        "MGRS = project(natural_join2(EMPLOYEE, DEPARTMENT, ['Ssn'], ['Mgrssn']), ['Lname', 'Dnumber'])\n",
        "WALLACE_MANAGED_DEPARTMENT = project(select(MGRS, \"Lname == 'Wallace'\"), ['Dnumber'])\n",
        "WALLACE_MGR_PROJECTS = project(natural_join2(WALLACE_MANAGED_DEPARTMENT, PROJECT, ['Dnumber'], ['Dnum']), ['Pname'])\n",
        "RESULT = intersect(WALLACE_WORKER_PROJECTS, WALLACE_MGR_PROJECTS)\n",
        "RESULT\n",
        "\n",
        "# natural_join2(EMPLOYEE, DEPARTMENT, ['Ssn'], ['Mgrssn'])\n",
        "# natural_join2(WALLACE_MANAGED_DEPARTMENT, PROJECT, ['Dnumber'], ['Dnum'])"
      ],
      "execution_count": 6,
      "outputs": [
        {
          "output_type": "execute_result",
          "data": {
            "text/html": [
              "<div>\n",
              "<style scoped>\n",
              "    .dataframe tbody tr th:only-of-type {\n",
              "        vertical-align: middle;\n",
              "    }\n",
              "\n",
              "    .dataframe tbody tr th {\n",
              "        vertical-align: top;\n",
              "    }\n",
              "\n",
              "    .dataframe thead th {\n",
              "        text-align: right;\n",
              "    }\n",
              "</style>\n",
              "<table border=\"1\" class=\"dataframe\">\n",
              "  <thead>\n",
              "    <tr style=\"text-align: right;\">\n",
              "      <th></th>\n",
              "      <th>Pname</th>\n",
              "    </tr>\n",
              "  </thead>\n",
              "  <tbody>\n",
              "    <tr>\n",
              "      <th>0</th>\n",
              "      <td>Computerization</td>\n",
              "    </tr>\n",
              "    <tr>\n",
              "      <th>1</th>\n",
              "      <td>Newbenefits</td>\n",
              "    </tr>\n",
              "  </tbody>\n",
              "</table>\n",
              "</div>"
            ],
            "text/plain": [
              "             Pname\n",
              "0  Computerization\n",
              "1      Newbenefits"
            ]
          },
          "metadata": {
            "tags": []
          },
          "execution_count": 6
        }
      ]
    },
    {
      "cell_type": "markdown",
      "metadata": {
        "id": "bCfbf91YNcWD"
      },
      "source": [
        "### Query 6: List the last name, first name of all employees with two or more dependents. (Do NOT use aggregate operator)"
      ]
    },
    {
      "cell_type": "code",
      "metadata": {
        "id": "IF5phAAWNcWE",
        "outputId": "de42e092-a074-4f87-a8dd-aa9426da5cdd",
        "colab": {
          "base_uri": "https://localhost:8080/",
          "height": 111
        }
      },
      "source": [
        "# YOUR CODE HERE\n",
        "\n",
        "# EMPLOYEE_MANAGER = project(EMPLOYEE, ['Ssn'])\n",
        "# EMPLOYEE_DEPENDENT = project(DEPENDENT, ['Essn'])\n",
        "# RE_EM = intersect(EMPLOYEE_MANAGER, EMPLOYEE_DEPENDENT)\n",
        "\n",
        "# a = project(EMPLOYEE, ['Fname', 'Lname', 'Ssn'])\n",
        "# b = select(project(natural_join(EMPLOYEE, RE_EM), ['Ssn']), \"(Ssn == 333445555) | (Ssn == 123456789)\")\n",
        "# b\n",
        "# division(a, b)\n",
        "\n",
        "project(select(natural_join2(EMPLOYEE, DEPENDENT, ['Ssn'], ['Essn']), \"Dno > 4\"), ['Fname', 'Lname'])\n",
        "\n",
        "\n",
        "# RE = project(natural_join(EMPLOYEE, RE_EM), ['Lname', 'Fname'])\n",
        "# RE\n",
        "\n",
        "\n",
        "# natural_join2(EMPLOYEE, DEPENDENT, ['Ssn'], ['Essn'])\n",
        "\n",
        "# a = project(natural_join2(EMPLOYEE, DEPENDENT, ['Ssn'], ['Essn']), ['Fname', 'Lname', 'Ssn', 'Dependent_name'])\n",
        "# b = project(DEPENDENT, ['Essn'])\n",
        "# a\n",
        "# project(natural_join(a, EMPLOYEE), ['Fname', 'Lname'])\n",
        "\n",
        "# division(a, DEPENDENT)\n",
        "# project(, ['Fname', 'Lname'])"
      ],
      "execution_count": 7,
      "outputs": [
        {
          "output_type": "execute_result",
          "data": {
            "text/html": [
              "<div>\n",
              "<style scoped>\n",
              "    .dataframe tbody tr th:only-of-type {\n",
              "        vertical-align: middle;\n",
              "    }\n",
              "\n",
              "    .dataframe tbody tr th {\n",
              "        vertical-align: top;\n",
              "    }\n",
              "\n",
              "    .dataframe thead th {\n",
              "        text-align: right;\n",
              "    }\n",
              "</style>\n",
              "<table border=\"1\" class=\"dataframe\">\n",
              "  <thead>\n",
              "    <tr style=\"text-align: right;\">\n",
              "      <th></th>\n",
              "      <th>Fname</th>\n",
              "      <th>Lname</th>\n",
              "    </tr>\n",
              "  </thead>\n",
              "  <tbody>\n",
              "    <tr>\n",
              "      <th>0</th>\n",
              "      <td>John</td>\n",
              "      <td>Smith</td>\n",
              "    </tr>\n",
              "    <tr>\n",
              "      <th>1</th>\n",
              "      <td>Franklin</td>\n",
              "      <td>Wong</td>\n",
              "    </tr>\n",
              "  </tbody>\n",
              "</table>\n",
              "</div>"
            ],
            "text/plain": [
              "      Fname  Lname\n",
              "0      John  Smith\n",
              "1  Franklin   Wong"
            ]
          },
          "metadata": {
            "tags": []
          },
          "execution_count": 7
        }
      ]
    },
    {
      "cell_type": "markdown",
      "metadata": {
        "id": "DT5bDjEJNcWG"
      },
      "source": [
        "### Query 7: Retrieve the last name, first name of employees who have no dependents."
      ]
    },
    {
      "cell_type": "code",
      "metadata": {
        "id": "gVVWimTcNcWG",
        "outputId": "ab69d928-5b1a-400c-a5a7-d8ff3a82748c",
        "colab": {
          "base_uri": "https://localhost:8080/",
          "height": 204
        }
      },
      "source": [
        "# YOUR CODE HERE\n",
        "ALL_EMPLOYEE = project(EMPLOYEE, ['Ssn'])\n",
        "EMPLOYEE_with_DEPENDENT = project(DEPENDENT, ['Essn'])\n",
        "EMPLOYEE_without_DEPENDENT = minus(ALL_EMPLOYEE, EMPLOYEE_with_DEPENDENT)\n",
        "project(natural_join(EMPLOYEE_without_DEPENDENT, EMPLOYEE), ['Fname', 'Lname'])"
      ],
      "execution_count": 8,
      "outputs": [
        {
          "output_type": "execute_result",
          "data": {
            "text/html": [
              "<div>\n",
              "<style scoped>\n",
              "    .dataframe tbody tr th:only-of-type {\n",
              "        vertical-align: middle;\n",
              "    }\n",
              "\n",
              "    .dataframe tbody tr th {\n",
              "        vertical-align: top;\n",
              "    }\n",
              "\n",
              "    .dataframe thead th {\n",
              "        text-align: right;\n",
              "    }\n",
              "</style>\n",
              "<table border=\"1\" class=\"dataframe\">\n",
              "  <thead>\n",
              "    <tr style=\"text-align: right;\">\n",
              "      <th></th>\n",
              "      <th>Fname</th>\n",
              "      <th>Lname</th>\n",
              "    </tr>\n",
              "  </thead>\n",
              "  <tbody>\n",
              "    <tr>\n",
              "      <th>0</th>\n",
              "      <td>Joyce</td>\n",
              "      <td>English</td>\n",
              "    </tr>\n",
              "    <tr>\n",
              "      <th>1</th>\n",
              "      <td>Ramesh</td>\n",
              "      <td>Narayan</td>\n",
              "    </tr>\n",
              "    <tr>\n",
              "      <th>2</th>\n",
              "      <td>James</td>\n",
              "      <td>Borg</td>\n",
              "    </tr>\n",
              "    <tr>\n",
              "      <th>3</th>\n",
              "      <td>Ahmad</td>\n",
              "      <td>Jabbar</td>\n",
              "    </tr>\n",
              "    <tr>\n",
              "      <th>4</th>\n",
              "      <td>Alicia</td>\n",
              "      <td>Zelaya</td>\n",
              "    </tr>\n",
              "  </tbody>\n",
              "</table>\n",
              "</div>"
            ],
            "text/plain": [
              "    Fname    Lname\n",
              "0   Joyce  English\n",
              "1  Ramesh  Narayan\n",
              "2   James     Borg\n",
              "3   Ahmad   Jabbar\n",
              "4  Alicia   Zelaya"
            ]
          },
          "metadata": {
            "tags": []
          },
          "execution_count": 8
        }
      ]
    },
    {
      "cell_type": "markdown",
      "metadata": {
        "id": "wVHFMTDSNcWI"
      },
      "source": [
        "### Query 8: List the last name, first name of managers who have at least one dependent."
      ]
    },
    {
      "cell_type": "code",
      "metadata": {
        "id": "E2xctVteNcWI",
        "outputId": "3920ddb5-3555-4df9-d86a-8dcf5c7d9486",
        "colab": {
          "base_uri": "https://localhost:8080/",
          "height": 111
        }
      },
      "source": [
        "# YOUR CODE HERE\n",
        "MGRS = project(DEPARTMENT, ['Mgrssn'])\n",
        "EMPLOYEE_with_DEPENDENT = project(DEPENDENT, ['Essn'])\n",
        "MGRS_with_DEPENDENT = intersect(MGRS, EMPLOYEE_with_DEPENDENT)\n",
        "\n",
        "project(natural_join2(MGRS_with_DEPENDENT, EMPLOYEE, ['Mgrssn'], ['Ssn']), ['Fname', 'Lname'])"
      ],
      "execution_count": 9,
      "outputs": [
        {
          "output_type": "execute_result",
          "data": {
            "text/html": [
              "<div>\n",
              "<style scoped>\n",
              "    .dataframe tbody tr th:only-of-type {\n",
              "        vertical-align: middle;\n",
              "    }\n",
              "\n",
              "    .dataframe tbody tr th {\n",
              "        vertical-align: top;\n",
              "    }\n",
              "\n",
              "    .dataframe thead th {\n",
              "        text-align: right;\n",
              "    }\n",
              "</style>\n",
              "<table border=\"1\" class=\"dataframe\">\n",
              "  <thead>\n",
              "    <tr style=\"text-align: right;\">\n",
              "      <th></th>\n",
              "      <th>Fname</th>\n",
              "      <th>Lname</th>\n",
              "    </tr>\n",
              "  </thead>\n",
              "  <tbody>\n",
              "    <tr>\n",
              "      <th>0</th>\n",
              "      <td>Jennifer</td>\n",
              "      <td>Wallace</td>\n",
              "    </tr>\n",
              "    <tr>\n",
              "      <th>1</th>\n",
              "      <td>Franklin</td>\n",
              "      <td>Wong</td>\n",
              "    </tr>\n",
              "  </tbody>\n",
              "</table>\n",
              "</div>"
            ],
            "text/plain": [
              "      Fname    Lname\n",
              "0  Jennifer  Wallace\n",
              "1  Franklin     Wong"
            ]
          },
          "metadata": {
            "tags": []
          },
          "execution_count": 9
        }
      ]
    },
    {
      "cell_type": "markdown",
      "metadata": {
        "id": "lNLiZ4WwNcWK"
      },
      "source": [
        "### Query 9: Retrieve the last name, first name of all employees in department 5 who work more than 10 hours per week on the ProductX project."
      ]
    },
    {
      "cell_type": "code",
      "metadata": {
        "id": "mXMuCmmfNcWK",
        "outputId": "a03b7fe8-ca48-418c-c84a-a7c7a35a31d5",
        "colab": {
          "base_uri": "https://localhost:8080/",
          "height": 111
        }
      },
      "source": [
        "# YOUR CODE HERE\n",
        "EMPLOYEE_with_PRODUCTX = natural_join2(select(PROJECT, \"Pname == 'ProductX'\"), WORKS_ON, ['Pnumber'], ['Pno'])\n",
        "EMPLOYEE_work_ten = natural_join2(EMPLOYEE, select(EMPLOYEE_with_PRODUCTX, \"Hours >= 10\"), ['Ssn'], ['Essn'])\n",
        "project(select(EMPLOYEE_work_ten, \"Dno == 5\"), ['Fname', 'Lname'])"
      ],
      "execution_count": 10,
      "outputs": [
        {
          "output_type": "execute_result",
          "data": {
            "text/html": [
              "<div>\n",
              "<style scoped>\n",
              "    .dataframe tbody tr th:only-of-type {\n",
              "        vertical-align: middle;\n",
              "    }\n",
              "\n",
              "    .dataframe tbody tr th {\n",
              "        vertical-align: top;\n",
              "    }\n",
              "\n",
              "    .dataframe thead th {\n",
              "        text-align: right;\n",
              "    }\n",
              "</style>\n",
              "<table border=\"1\" class=\"dataframe\">\n",
              "  <thead>\n",
              "    <tr style=\"text-align: right;\">\n",
              "      <th></th>\n",
              "      <th>Fname</th>\n",
              "      <th>Lname</th>\n",
              "    </tr>\n",
              "  </thead>\n",
              "  <tbody>\n",
              "    <tr>\n",
              "      <th>0</th>\n",
              "      <td>John</td>\n",
              "      <td>Smith</td>\n",
              "    </tr>\n",
              "    <tr>\n",
              "      <th>1</th>\n",
              "      <td>Joyce</td>\n",
              "      <td>English</td>\n",
              "    </tr>\n",
              "  </tbody>\n",
              "</table>\n",
              "</div>"
            ],
            "text/plain": [
              "   Fname    Lname\n",
              "0   John    Smith\n",
              "1  Joyce  English"
            ]
          },
          "metadata": {
            "tags": []
          },
          "execution_count": 10
        }
      ]
    },
    {
      "cell_type": "markdown",
      "metadata": {
        "id": "9ylXdFj8NcWM"
      },
      "source": [
        "### Query 10: Retrieve the last name, first name of all employees who is supervised by James Borg"
      ]
    },
    {
      "cell_type": "code",
      "metadata": {
        "id": "0fTZCtxrNcWN",
        "outputId": "4231558f-24c1-40d1-d0c7-d2590b476ff7",
        "colab": {
          "base_uri": "https://localhost:8080/",
          "height": 297
        }
      },
      "source": [
        "# YOUR CODE HERE\n",
        "Borg_Ssn = project(select(EMPLOYEE, \"(Fname == 'James') & (Lname == 'Borg')\"), ['Ssn'])\n",
        "Borg_EMPLOYEE = product(EMPLOYEE, Borg_Ssn)\n",
        "project(select(Borg_EMPLOYEE, \"Superssn == Ssn_y\"), ['Fname', 'Lname'])\n",
        "\n"
      ],
      "execution_count": 12,
      "outputs": [
        {
          "output_type": "execute_result",
          "data": {
            "text/html": [
              "<div>\n",
              "<style scoped>\n",
              "    .dataframe tbody tr th:only-of-type {\n",
              "        vertical-align: middle;\n",
              "    }\n",
              "\n",
              "    .dataframe tbody tr th {\n",
              "        vertical-align: top;\n",
              "    }\n",
              "\n",
              "    .dataframe thead th {\n",
              "        text-align: right;\n",
              "    }\n",
              "</style>\n",
              "<table border=\"1\" class=\"dataframe\">\n",
              "  <thead>\n",
              "    <tr style=\"text-align: right;\">\n",
              "      <th></th>\n",
              "      <th>Fname</th>\n",
              "      <th>Minit</th>\n",
              "      <th>Lname</th>\n",
              "      <th>Ssn_x</th>\n",
              "      <th>Bdate</th>\n",
              "      <th>Address</th>\n",
              "      <th>Sex</th>\n",
              "      <th>Salary</th>\n",
              "      <th>Superssn</th>\n",
              "      <th>Dno</th>\n",
              "      <th>Ssn_y</th>\n",
              "    </tr>\n",
              "  </thead>\n",
              "  <tbody>\n",
              "    <tr>\n",
              "      <th>0</th>\n",
              "      <td>John</td>\n",
              "      <td>B</td>\n",
              "      <td>Smith</td>\n",
              "      <td>123456789</td>\n",
              "      <td>1965-01-09</td>\n",
              "      <td>731-Fondren-Houston-TX</td>\n",
              "      <td>M</td>\n",
              "      <td>30000.0</td>\n",
              "      <td>333445555.0</td>\n",
              "      <td>5</td>\n",
              "      <td>888665555</td>\n",
              "    </tr>\n",
              "    <tr>\n",
              "      <th>1</th>\n",
              "      <td>Franklin</td>\n",
              "      <td>T</td>\n",
              "      <td>Wong</td>\n",
              "      <td>333445555</td>\n",
              "      <td>1955-12-08</td>\n",
              "      <td>638-Voss-Houston-TX</td>\n",
              "      <td>M</td>\n",
              "      <td>40000.0</td>\n",
              "      <td>888665555.0</td>\n",
              "      <td>5</td>\n",
              "      <td>888665555</td>\n",
              "    </tr>\n",
              "    <tr>\n",
              "      <th>2</th>\n",
              "      <td>Joyce</td>\n",
              "      <td>A</td>\n",
              "      <td>English</td>\n",
              "      <td>453453453</td>\n",
              "      <td>1972-07-31</td>\n",
              "      <td>5631-Rice-Houston-TX</td>\n",
              "      <td>F</td>\n",
              "      <td>25000.0</td>\n",
              "      <td>333445555.0</td>\n",
              "      <td>5</td>\n",
              "      <td>888665555</td>\n",
              "    </tr>\n",
              "    <tr>\n",
              "      <th>3</th>\n",
              "      <td>Ramesh</td>\n",
              "      <td>K</td>\n",
              "      <td>Narayan</td>\n",
              "      <td>666884444</td>\n",
              "      <td>1962-09-15</td>\n",
              "      <td>975-Fire-Oak-Humble-TX</td>\n",
              "      <td>M</td>\n",
              "      <td>38000.0</td>\n",
              "      <td>333445555.0</td>\n",
              "      <td>5</td>\n",
              "      <td>888665555</td>\n",
              "    </tr>\n",
              "    <tr>\n",
              "      <th>4</th>\n",
              "      <td>James</td>\n",
              "      <td>E</td>\n",
              "      <td>Borg</td>\n",
              "      <td>888665555</td>\n",
              "      <td>1937-11-10</td>\n",
              "      <td>450-Stone-Houston-TX</td>\n",
              "      <td>M</td>\n",
              "      <td>55000.0</td>\n",
              "      <td>NaN</td>\n",
              "      <td>1</td>\n",
              "      <td>888665555</td>\n",
              "    </tr>\n",
              "    <tr>\n",
              "      <th>5</th>\n",
              "      <td>Jennifer</td>\n",
              "      <td>S</td>\n",
              "      <td>Wallace</td>\n",
              "      <td>987654321</td>\n",
              "      <td>1941-06-20</td>\n",
              "      <td>291-Berry-Bellaire-TX</td>\n",
              "      <td>F</td>\n",
              "      <td>43000.0</td>\n",
              "      <td>888665555.0</td>\n",
              "      <td>4</td>\n",
              "      <td>888665555</td>\n",
              "    </tr>\n",
              "    <tr>\n",
              "      <th>6</th>\n",
              "      <td>Ahmad</td>\n",
              "      <td>V</td>\n",
              "      <td>Jabbar</td>\n",
              "      <td>987987987</td>\n",
              "      <td>1969-03-29</td>\n",
              "      <td>980-Dallas-Houston-TX</td>\n",
              "      <td>M</td>\n",
              "      <td>25000.0</td>\n",
              "      <td>987654321.0</td>\n",
              "      <td>4</td>\n",
              "      <td>888665555</td>\n",
              "    </tr>\n",
              "    <tr>\n",
              "      <th>7</th>\n",
              "      <td>Alicia</td>\n",
              "      <td>J</td>\n",
              "      <td>Zelaya</td>\n",
              "      <td>999887777</td>\n",
              "      <td>1968-01-19</td>\n",
              "      <td>3321-Castle-Spring-TX</td>\n",
              "      <td>F</td>\n",
              "      <td>25000.0</td>\n",
              "      <td>987654321.0</td>\n",
              "      <td>4</td>\n",
              "      <td>888665555</td>\n",
              "    </tr>\n",
              "  </tbody>\n",
              "</table>\n",
              "</div>"
            ],
            "text/plain": [
              "      Fname Minit    Lname      Ssn_x  ...   Salary     Superssn Dno      Ssn_y\n",
              "0      John     B    Smith  123456789  ...  30000.0  333445555.0   5  888665555\n",
              "1  Franklin     T     Wong  333445555  ...  40000.0  888665555.0   5  888665555\n",
              "2     Joyce     A  English  453453453  ...  25000.0  333445555.0   5  888665555\n",
              "3    Ramesh     K  Narayan  666884444  ...  38000.0  333445555.0   5  888665555\n",
              "4     James     E     Borg  888665555  ...  55000.0          NaN   1  888665555\n",
              "5  Jennifer     S  Wallace  987654321  ...  43000.0  888665555.0   4  888665555\n",
              "6     Ahmad     V   Jabbar  987987987  ...  25000.0  987654321.0   4  888665555\n",
              "7    Alicia     J   Zelaya  999887777  ...  25000.0  987654321.0   4  888665555\n",
              "\n",
              "[8 rows x 11 columns]"
            ]
          },
          "metadata": {
            "tags": []
          },
          "execution_count": 12
        }
      ]
    }
  ]
}